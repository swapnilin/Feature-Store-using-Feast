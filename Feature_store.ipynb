{
 "cells": [
  {
   "cell_type": "markdown",
   "id": "6a7ad40b",
   "metadata": {},
   "source": [
    "# Feature Store Demo using FEAST"
   ]
  },
  {
   "cell_type": "markdown",
   "id": "f4f3016b",
   "metadata": {},
   "source": [
    "https://docs.feast.dev/getting-started/quickstart"
   ]
  },
  {
   "cell_type": "markdown",
   "id": "71a423a3",
   "metadata": {},
   "source": [
    "!pip install fastparquet\n",
    "!pip install pyarrow"
   ]
  },
  {
   "cell_type": "code",
   "execution_count": 2,
   "id": "83dbb494",
   "metadata": {},
   "outputs": [],
   "source": [
    "import pandas as pd\n",
    "import numpy as np\n",
    "#!pip install numpy==1.24.4"
   ]
  },
  {
   "cell_type": "code",
   "execution_count": 3,
   "id": "4418fa52",
   "metadata": {},
   "outputs": [],
   "source": [
    "#import data\n",
    "df = pd.read_csv('credit.csv')"
   ]
  },
  {
   "cell_type": "code",
   "execution_count": 4,
   "id": "3c1c20e6",
   "metadata": {},
   "outputs": [
    {
     "data": {
      "text/html": [
       "<div>\n",
       "<style scoped>\n",
       "    .dataframe tbody tr th:only-of-type {\n",
       "        vertical-align: middle;\n",
       "    }\n",
       "\n",
       "    .dataframe tbody tr th {\n",
       "        vertical-align: top;\n",
       "    }\n",
       "\n",
       "    .dataframe thead th {\n",
       "        text-align: right;\n",
       "    }\n",
       "</style>\n",
       "<table border=\"1\" class=\"dataframe\">\n",
       "  <thead>\n",
       "    <tr style=\"text-align: right;\">\n",
       "      <th></th>\n",
       "      <th>Loan_ID</th>\n",
       "      <th>Gender_Male</th>\n",
       "      <th>Married</th>\n",
       "      <th>Graduate</th>\n",
       "      <th>Self_Employed</th>\n",
       "      <th>ApplicantIncome</th>\n",
       "      <th>CoapplicantIncome</th>\n",
       "      <th>LoanAmount</th>\n",
       "      <th>Loan_Amount_Term</th>\n",
       "      <th>Credit_History</th>\n",
       "      <th>Eligible</th>\n",
       "      <th>Rural_Property</th>\n",
       "      <th>Semiurban_Property</th>\n",
       "      <th>Urban_Property</th>\n",
       "      <th>Dependents_0</th>\n",
       "      <th>Dependents_1</th>\n",
       "      <th>Dependents_2</th>\n",
       "      <th>Dependents_3</th>\n",
       "      <th>timestamp</th>\n",
       "    </tr>\n",
       "  </thead>\n",
       "  <tbody>\n",
       "    <tr>\n",
       "      <th>434</th>\n",
       "      <td>LP002390</td>\n",
       "      <td>1</td>\n",
       "      <td>0</td>\n",
       "      <td>1</td>\n",
       "      <td>0</td>\n",
       "      <td>3750</td>\n",
       "      <td>0.0</td>\n",
       "      <td>100.0</td>\n",
       "      <td>360.0</td>\n",
       "      <td>1</td>\n",
       "      <td>1</td>\n",
       "      <td>0</td>\n",
       "      <td>0</td>\n",
       "      <td>1</td>\n",
       "      <td>1</td>\n",
       "      <td>0</td>\n",
       "      <td>0</td>\n",
       "      <td>0</td>\n",
       "      <td>2023-03-09 12:07:08.476791</td>\n",
       "    </tr>\n",
       "  </tbody>\n",
       "</table>\n",
       "</div>"
      ],
      "text/plain": [
       "      Loan_ID  Gender_Male  Married  Graduate  Self_Employed  ApplicantIncome  \\\n",
       "434  LP002390            1        0         1              0             3750   \n",
       "\n",
       "     CoapplicantIncome  LoanAmount  Loan_Amount_Term  Credit_History  \\\n",
       "434                0.0       100.0             360.0               1   \n",
       "\n",
       "     Eligible  Rural_Property  Semiurban_Property  Urban_Property  \\\n",
       "434         1               0                   0               1   \n",
       "\n",
       "     Dependents_0  Dependents_1  Dependents_2  Dependents_3  \\\n",
       "434             1             0             0             0   \n",
       "\n",
       "                      timestamp  \n",
       "434  2023-03-09 12:07:08.476791  "
      ]
     },
     "execution_count": 4,
     "metadata": {},
     "output_type": "execute_result"
    }
   ],
   "source": [
    "df.sample()"
   ]
  },
  {
   "cell_type": "code",
   "execution_count": 5,
   "id": "05740701",
   "metadata": {},
   "outputs": [
    {
     "name": "stderr",
     "output_type": "stream",
     "text": [
      "/var/folders/3y/th3cycmx62ng9rtg90ftx0700000gn/T/ipykernel_37093/3334628879.py:2: FutureWarning: In a future version of pandas all arguments of DataFrame.drop except for the argument 'labels' will be keyword-only.\n",
      "  predictors = df.drop('Eligible',1)\n"
     ]
    }
   ],
   "source": [
    "#Seperate input features vs target variable\n",
    "predictors = df.drop('Eligible',1)"
   ]
  },
  {
   "cell_type": "markdown",
   "id": "4c4c6137",
   "metadata": {},
   "source": [
    "### We will keep Loan_ID so that we can use Loan_ID and timestamp to uniquely identify a record"
   ]
  },
  {
   "cell_type": "code",
   "execution_count": 6,
   "id": "95334919",
   "metadata": {},
   "outputs": [],
   "source": [
    "target = df[['Loan_ID','Eligible','timestamp']]"
   ]
  },
  {
   "cell_type": "code",
   "execution_count": 7,
   "id": "b02ddb93",
   "metadata": {},
   "outputs": [
    {
     "data": {
      "text/html": [
       "<div>\n",
       "<style scoped>\n",
       "    .dataframe tbody tr th:only-of-type {\n",
       "        vertical-align: middle;\n",
       "    }\n",
       "\n",
       "    .dataframe tbody tr th {\n",
       "        vertical-align: top;\n",
       "    }\n",
       "\n",
       "    .dataframe thead th {\n",
       "        text-align: right;\n",
       "    }\n",
       "</style>\n",
       "<table border=\"1\" class=\"dataframe\">\n",
       "  <thead>\n",
       "    <tr style=\"text-align: right;\">\n",
       "      <th></th>\n",
       "      <th>Loan_ID</th>\n",
       "      <th>Gender_Male</th>\n",
       "      <th>Married</th>\n",
       "      <th>Graduate</th>\n",
       "      <th>Self_Employed</th>\n",
       "      <th>ApplicantIncome</th>\n",
       "      <th>CoapplicantIncome</th>\n",
       "      <th>LoanAmount</th>\n",
       "      <th>Loan_Amount_Term</th>\n",
       "      <th>Credit_History</th>\n",
       "      <th>Rural_Property</th>\n",
       "      <th>Semiurban_Property</th>\n",
       "      <th>Urban_Property</th>\n",
       "      <th>Dependents_0</th>\n",
       "      <th>Dependents_1</th>\n",
       "      <th>Dependents_2</th>\n",
       "      <th>Dependents_3</th>\n",
       "      <th>timestamp</th>\n",
       "    </tr>\n",
       "  </thead>\n",
       "  <tbody>\n",
       "    <tr>\n",
       "      <th>0</th>\n",
       "      <td>LP001002</td>\n",
       "      <td>1</td>\n",
       "      <td>0</td>\n",
       "      <td>1</td>\n",
       "      <td>0</td>\n",
       "      <td>5849</td>\n",
       "      <td>0.0</td>\n",
       "      <td>128.0</td>\n",
       "      <td>360.0</td>\n",
       "      <td>1</td>\n",
       "      <td>0</td>\n",
       "      <td>0</td>\n",
       "      <td>1</td>\n",
       "      <td>1</td>\n",
       "      <td>0</td>\n",
       "      <td>0</td>\n",
       "      <td>0</td>\n",
       "      <td>2021-12-30 12:07:08.476791</td>\n",
       "    </tr>\n",
       "    <tr>\n",
       "      <th>1</th>\n",
       "      <td>LP001003</td>\n",
       "      <td>1</td>\n",
       "      <td>1</td>\n",
       "      <td>1</td>\n",
       "      <td>0</td>\n",
       "      <td>4583</td>\n",
       "      <td>1508.0</td>\n",
       "      <td>128.0</td>\n",
       "      <td>360.0</td>\n",
       "      <td>1</td>\n",
       "      <td>1</td>\n",
       "      <td>0</td>\n",
       "      <td>0</td>\n",
       "      <td>0</td>\n",
       "      <td>1</td>\n",
       "      <td>0</td>\n",
       "      <td>0</td>\n",
       "      <td>2021-12-31 12:07:08.476791</td>\n",
       "    </tr>\n",
       "    <tr>\n",
       "      <th>2</th>\n",
       "      <td>LP001005</td>\n",
       "      <td>1</td>\n",
       "      <td>1</td>\n",
       "      <td>1</td>\n",
       "      <td>1</td>\n",
       "      <td>3000</td>\n",
       "      <td>0.0</td>\n",
       "      <td>66.0</td>\n",
       "      <td>360.0</td>\n",
       "      <td>1</td>\n",
       "      <td>0</td>\n",
       "      <td>0</td>\n",
       "      <td>1</td>\n",
       "      <td>1</td>\n",
       "      <td>0</td>\n",
       "      <td>0</td>\n",
       "      <td>0</td>\n",
       "      <td>2022-01-01 12:07:08.476791</td>\n",
       "    </tr>\n",
       "    <tr>\n",
       "      <th>3</th>\n",
       "      <td>LP001006</td>\n",
       "      <td>1</td>\n",
       "      <td>1</td>\n",
       "      <td>0</td>\n",
       "      <td>0</td>\n",
       "      <td>2583</td>\n",
       "      <td>2358.0</td>\n",
       "      <td>120.0</td>\n",
       "      <td>360.0</td>\n",
       "      <td>1</td>\n",
       "      <td>0</td>\n",
       "      <td>0</td>\n",
       "      <td>1</td>\n",
       "      <td>1</td>\n",
       "      <td>0</td>\n",
       "      <td>0</td>\n",
       "      <td>0</td>\n",
       "      <td>2022-01-02 12:07:08.476791</td>\n",
       "    </tr>\n",
       "    <tr>\n",
       "      <th>4</th>\n",
       "      <td>LP001008</td>\n",
       "      <td>1</td>\n",
       "      <td>0</td>\n",
       "      <td>1</td>\n",
       "      <td>0</td>\n",
       "      <td>6000</td>\n",
       "      <td>0.0</td>\n",
       "      <td>141.0</td>\n",
       "      <td>360.0</td>\n",
       "      <td>1</td>\n",
       "      <td>0</td>\n",
       "      <td>0</td>\n",
       "      <td>1</td>\n",
       "      <td>1</td>\n",
       "      <td>0</td>\n",
       "      <td>0</td>\n",
       "      <td>0</td>\n",
       "      <td>2022-01-03 12:07:08.476791</td>\n",
       "    </tr>\n",
       "  </tbody>\n",
       "</table>\n",
       "</div>"
      ],
      "text/plain": [
       "    Loan_ID  Gender_Male  Married  Graduate  Self_Employed  ApplicantIncome  \\\n",
       "0  LP001002            1        0         1              0             5849   \n",
       "1  LP001003            1        1         1              0             4583   \n",
       "2  LP001005            1        1         1              1             3000   \n",
       "3  LP001006            1        1         0              0             2583   \n",
       "4  LP001008            1        0         1              0             6000   \n",
       "\n",
       "   CoapplicantIncome  LoanAmount  Loan_Amount_Term  Credit_History  \\\n",
       "0                0.0       128.0             360.0               1   \n",
       "1             1508.0       128.0             360.0               1   \n",
       "2                0.0        66.0             360.0               1   \n",
       "3             2358.0       120.0             360.0               1   \n",
       "4                0.0       141.0             360.0               1   \n",
       "\n",
       "   Rural_Property  Semiurban_Property  Urban_Property  Dependents_0  \\\n",
       "0               0                   0               1             1   \n",
       "1               1                   0               0             0   \n",
       "2               0                   0               1             1   \n",
       "3               0                   0               1             1   \n",
       "4               0                   0               1             1   \n",
       "\n",
       "   Dependents_1  Dependents_2  Dependents_3                   timestamp  \n",
       "0             0             0             0  2021-12-30 12:07:08.476791  \n",
       "1             1             0             0  2021-12-31 12:07:08.476791  \n",
       "2             0             0             0  2022-01-01 12:07:08.476791  \n",
       "3             0             0             0  2022-01-02 12:07:08.476791  \n",
       "4             0             0             0  2022-01-03 12:07:08.476791  "
      ]
     },
     "execution_count": 7,
     "metadata": {},
     "output_type": "execute_result"
    }
   ],
   "source": [
    "predictors.head()"
   ]
  },
  {
   "cell_type": "code",
   "execution_count": 8,
   "id": "60cef612",
   "metadata": {},
   "outputs": [],
   "source": [
    "predictors.to_parquet('predictors.parquet')\n",
    "target.to_parquet('target.parquet')"
   ]
  },
  {
   "cell_type": "markdown",
   "id": "8b0d1d65",
   "metadata": {},
   "source": [
    "### All the above steps are done to satisfy Feast library requirements. All the data cleaning, data preparation should be done before this. Feast requires a timestamp and id column which we have in our data."
   ]
  },
  {
   "cell_type": "markdown",
   "id": "d9b523e0",
   "metadata": {},
   "source": [
    "!pip install feast"
   ]
  },
  {
   "cell_type": "code",
   "execution_count": 50,
   "id": "a32b20d2",
   "metadata": {},
   "outputs": [
    {
     "name": "stdout",
     "output_type": "stream",
     "text": [
      "Name: feast\n",
      "Version: 0.33.1\n",
      "Summary: Python SDK for Feast\n",
      "Home-page: https://github.com/feast-dev/feast\n",
      "Author: Feast\n",
      "Author-email: \n",
      "License: Apache\n",
      "Location: /Users/swapnil/opt/anaconda3/lib/python3.9/site-packages\n",
      "Requires: bowler, click, colorama, dask, dill, fastapi, fastavro, grpcio, grpcio-reflection, gunicorn, httpx, Jinja2, jsonschema, mmh3, numpy, pandas, pandavro, proto-plus, protobuf, pyarrow, pydantic, pygments, PyYAML, requests, SQLAlchemy, tabulate, tenacity, toml, tqdm, typeguard, uvicorn\n",
      "Required-by: \n",
      "Note: you may need to restart the kernel to use updated packages.\n"
     ]
    }
   ],
   "source": [
    "#to check version\n",
    "pip show feast"
   ]
  },
  {
   "cell_type": "code",
   "execution_count": 9,
   "id": "f37050c9",
   "metadata": {},
   "outputs": [
    {
     "data": {
      "text/plain": [
       "'/Users/swapnil/Downloads/Feature_store'"
      ]
     },
     "execution_count": 9,
     "metadata": {},
     "output_type": "execute_result"
    }
   ],
   "source": [
    "pwd"
   ]
  },
  {
   "cell_type": "code",
   "execution_count": 10,
   "id": "506818e2",
   "metadata": {},
   "outputs": [
    {
     "name": "stdout",
     "output_type": "stream",
     "text": [
      "\r\n",
      "Creating a new Feast repository in \u001b[1m\u001b[32m/Users/swapnil/Downloads/Feature_store/feature_repo\u001b[0m.\r\n",
      "\r\n"
     ]
    }
   ],
   "source": [
    "#let us create a feast repository\n",
    "!feast init feature_repo"
   ]
  },
  {
   "cell_type": "markdown",
   "id": "adb2f1f7",
   "metadata": {},
   "source": [
    "The above code creates a folder structure in your path file.\n",
    "\n",
    "<img src=\"image1.png\" width=\"240\" height=\"240\" align=\"left\"/>\n",
    "\n"
   ]
  },
  {
   "cell_type": "markdown",
   "id": "b0085925",
   "metadata": {},
   "source": [
    "Next > \n",
    "\n",
    "step 1 - Move your parcquet files in the data folder\n",
    "\n",
    "step 2 - Rename example_repo.py file to feature_metadata.py\n",
    "\n",
    "step 3 - open the feature_metadata.py file through jupyter notebook and edit it.\n",
    "\n",
    "replace all with contents from below cell."
   ]
  },
  {
   "cell_type": "code",
   "execution_count": null,
   "id": "3bdb4f92",
   "metadata": {},
   "outputs": [],
   "source": [
    "# This is an example feature definition file\n",
    "\n",
    "from datetime import timedelta\n",
    "\n",
    "import pandas as pd\n",
    "\n",
    "from feast import (\n",
    "    Entity,\n",
    "    FeatureService,\n",
    "    FeatureView,\n",
    "    Field,\n",
    "    FileSource,\n",
    "    PushSource,\n",
    "    RequestSource,\n",
    ")\n",
    "from feast.on_demand_feature_view import on_demand_feature_view\n",
    "from feast.types import Float32, Float64, Int64\n",
    "\n",
    "# Define an entity for the driver. You can think of an entity as a primary key used to\n",
    "# fetch features.\n",
    "ID = Entity(name=\"Loan_ID\",description = 'Unique ID of the applicant') \n",
    "\n",
    "# PREDICTOR FEATURE VIEW\n",
    "\n",
    "\n",
    "# Read data from parquet files. Parquet is convenient for local development mode. For\n",
    "# production, you can use your favorite DWH, such as BigQuery. See Feast documentation\n",
    "# for more info.\n",
    "predictor_source = FileSource(\n",
    "    path=\"/Users/swapnil/Downloads/Feature_store/feature_repo/feature_repo/data/predictors.parquet\",\n",
    "    timestamp_field=\"timestamp\",\n",
    ")\n",
    "\n",
    "\n",
    "# Our parquet files contain sample data that includes a loan_id column, timestamps and\n",
    "# 16 feature columns. Here we define a Feature View that will allow us to serve this\n",
    "# data to our model online.\n",
    "predictor_data_fv = FeatureView(\n",
    "    # The unique name of this feature view. Two feature views in a single \n",
    "    # project cannot have the same name\n",
    "    name=\"predictors_fv\",\n",
    "    entities=[ID],\n",
    "    ttl=timedelta(days=1),\n",
    "    # The list of features defined below act as a schema to both define features\n",
    "    # for both materialization of features into a store, and are used as references\n",
    "    # during retrieval for building a training dataset or serving features\n",
    "    schema=[\n",
    "        Field(name=\"Gender_Male\", dtype=Int64, description=\"If male then 1\"),\n",
    "        Field(name=\"Married\", dtype=Int64, description=\"If married then 1\"),\n",
    "        Field(name=\"Graduate\", dtype=Int64, description=\"If graduate then 1\"),\n",
    "        Field(name=\"Self_Employed\", dtype=Int64, description=\"If Self_Employed then 1\"),\n",
    "        Field(name=\"ApplicantIncome\", dtype=Float64, description=\"Monthly income of the applicant\"),\n",
    "        Field(name=\"CoapplicantIncome\", dtype=Float64, description=\"Monthly income of the co-applicant\"),\n",
    "        Field(name=\"LoanAmount\", dtype=Float64, description=\"loan amount applied\"),\n",
    "        Field(name=\"Loan_Amount_Term\", dtype=Float64, description=\"Ammortization period\"),\n",
    "        Field(name=\"Credit_History\", dtype=Int64, description=\"1 if the applicant has a credit history\"),\n",
    "        Field(name=\"Rural_Property\", dtype=Int64, description=\"1 if current propert is rural\"),\n",
    "        Field(name=\"Urban_Property\", dtype=Int64, description=\"1 if current propert is urban\"),\n",
    "        Field(name=\"Dependents_0\", dtype=Int64, description=\"1 if no dependants\"),\n",
    "        Field(name=\"Dependents_1\", dtype=Int64, description=\"1 if 1 dependant\"),\n",
    "        Field(name=\"Dependents_2\", dtype=Int64, description=\"1 if 2 dependants\"),\n",
    "        Field(name=\"Dependents_3\", dtype=Int64, description=\"1 if 3 or more dependants\"),\n",
    "    ],\n",
    "    online=True,\n",
    "    source=predictor_source,\n",
    "    # Tags are user defined key/value pairs that are attached to each\n",
    "    # feature view for filtering purposes. I have not used any tags here. refer doc.\n",
    "    tags={},\n",
    ")\n",
    "\n",
    "\n",
    "\n",
    "# TARGET FEATURE VIEW\n",
    "\n",
    "\n",
    "target_source = FileSource(\n",
    "    path=\"/Users/swapnil/Downloads/Feature_store/feature_repo/feature_repo/data/target.parquet\",\n",
    "    timestamp_field=\"timestamp\",\n",
    ")\n",
    "\n",
    "\n",
    "\n",
    "target_data_fv = FeatureView(\n",
    "    name=\"target_fv\",\n",
    "    entities=[ID],\n",
    "    ttl=timedelta(days=1),\n",
    "    schema=[\n",
    "        Field(name=\"Eligible\", dtype=Int64, description=\"1 if applicant was eligible for loan\"),\n",
    "    ],\n",
    "    online=True,\n",
    "    source=target_source,\n",
    "    tags={},\n",
    ")"
   ]
  },
  {
   "cell_type": "markdown",
   "id": "7440219c",
   "metadata": {},
   "source": [
    "### Navigate inside feature_repo folder"
   ]
  },
  {
   "cell_type": "code",
   "execution_count": 11,
   "id": "f783aa4f",
   "metadata": {},
   "outputs": [
    {
     "data": {
      "text/plain": [
       "'/Users/swapnil/Downloads/Feature_store'"
      ]
     },
     "execution_count": 11,
     "metadata": {},
     "output_type": "execute_result"
    }
   ],
   "source": [
    "pwd"
   ]
  },
  {
   "cell_type": "code",
   "execution_count": 12,
   "id": "ce4672f8",
   "metadata": {},
   "outputs": [
    {
     "name": "stdout",
     "output_type": "stream",
     "text": [
      "/Users/swapnil/Downloads/Feature_store/feature_repo/feature_repo\n"
     ]
    }
   ],
   "source": [
    "cd /Users/swapnil/Downloads/Feature_store/feature_repo/feature_repo"
   ]
  },
  {
   "cell_type": "code",
   "execution_count": 13,
   "id": "493c4e4c",
   "metadata": {},
   "outputs": [
    {
     "data": {
      "text/plain": [
       "'/Users/swapnil/Downloads/Feature_store/feature_repo/feature_repo'"
      ]
     },
     "execution_count": 13,
     "metadata": {},
     "output_type": "execute_result"
    }
   ],
   "source": [
    "pwd"
   ]
  },
  {
   "cell_type": "code",
   "execution_count": 15,
   "id": "7486c1ff",
   "metadata": {},
   "outputs": [
    {
     "name": "stdout",
     "output_type": "stream",
     "text": [
      "09/04/2023 07:13:40 PM feast.infra.registry.registry INFO: Registry cache expired, so refreshing\r\n",
      "09/04/2023 07:13:40 PM feast.infra.registry.registry INFO: Registry cache expired, so refreshing\r\n",
      "09/04/2023 07:13:40 PM feast.infra.registry.registry INFO: Registry cache expired, so refreshing\r\n",
      "09/04/2023 07:13:40 PM feast.infra.registry.registry INFO: Registry cache expired, so refreshing\r\n",
      "09/04/2023 07:13:40 PM feast.infra.registry.registry INFO: Registry cache expired, so refreshing\r\n",
      "09/04/2023 07:13:40 PM feast.infra.registry.registry INFO: Registry cache expired, so refreshing\r\n",
      "09/04/2023 07:13:40 PM feast.infra.registry.registry INFO: Registry cache expired, so refreshing\r\n",
      "09/04/2023 07:13:40 PM feast.infra.registry.registry INFO: Registry cache expired, so refreshing\r\n",
      "09/04/2023 07:13:40 PM feast.infra.registry.registry INFO: Registry cache expired, so refreshing\r\n",
      "09/04/2023 07:13:40 PM feast.infra.registry.registry INFO: Registry cache expired, so refreshing\r\n",
      "09/04/2023 07:13:40 PM feast.infra.registry.registry INFO: Registry cache expired, so refreshing\r\n",
      "09/04/2023 07:13:40 PM feast.infra.registry.registry INFO: Registry cache expired, so refreshing\r\n",
      "09/04/2023 07:13:40 PM feast.infra.registry.registry INFO: Registry cache expired, so refreshing\r\n",
      "09/04/2023 07:13:40 PM feast.infra.registry.registry INFO: Registry cache expired, so refreshing\r\n",
      "09/04/2023 07:13:40 PM feast.infra.registry.registry INFO: Registry cache expired, so refreshing\r\n",
      "09/04/2023 07:13:40 PM feast.infra.registry.registry INFO: Registry cache expired, so refreshing\r\n",
      "09/04/2023 07:13:40 PM feast.infra.registry.registry INFO: Registry cache expired, so refreshing\r\n"
     ]
    }
   ],
   "source": [
    "# Run feast apply. This will register features in feature store.\n",
    "!feast apply "
   ]
  },
  {
   "cell_type": "code",
   "execution_count": null,
   "id": "cdf6055a",
   "metadata": {},
   "outputs": [],
   "source": []
  },
  {
   "cell_type": "code",
   "execution_count": null,
   "id": "c50ac72c",
   "metadata": {},
   "outputs": [],
   "source": []
  }
 ],
 "metadata": {
  "kernelspec": {
   "display_name": "Python 3 (ipykernel)",
   "language": "python",
   "name": "python3"
  },
  "language_info": {
   "codemirror_mode": {
    "name": "ipython",
    "version": 3
   },
   "file_extension": ".py",
   "mimetype": "text/x-python",
   "name": "python",
   "nbconvert_exporter": "python",
   "pygments_lexer": "ipython3",
   "version": "3.9.13"
  }
 },
 "nbformat": 4,
 "nbformat_minor": 5
}
